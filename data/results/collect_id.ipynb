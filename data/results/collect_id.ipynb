{
 "cells": [
  {
   "cell_type": "markdown",
   "metadata": {},
   "source": [
    "# Intro\n",
    "\n",
    "In this notebook, we will be reading from a pickle file, which will contain a list of songs through the years. Each element of this list will be a year of top songs, which is a list of dicts containing date, name, and artist. This list should contain the Billboard 100 songs for every week for the last 20 years, or as many years are available for that genre.\n",
    "\n",
    "Given this list, we will query the spotify API to generate a dataframe that contains the same information, augmented with song ID, song features, and artist genre. This dataframe will be saved as a pickle file at the end."
   ]
  },
  {
   "cell_type": "code",
   "execution_count": 122,
   "metadata": {},
   "outputs": [],
   "source": [
    "import spotipy\n",
    "import spotipy.util as util\n",
    "\n",
    "scope = ''\n",
    "username = 'testname777123'\n",
    "# Note: This should be filled in with an authentication token. Make sure to delete it before committing.\n",
    "token = 'BQBoowAucF4t3k1mBY9AJ1n8ykkuBvo5UfM8JL0sEOXKXLFn0ywZ6zCYyOg9uEFxhUyBvaO0QBb8Gv_AnwMM_ke9CAz8TvauJeBGR4ZL3O9AEwWgwJ-u7mupyggHi00rN81IJXlJzWTO5K3FRI8N5Vp-'\n",
    "\n",
    "sp = spotipy.Spotify(auth=token)"
   ]
  },
  {
   "cell_type": "markdown",
   "metadata": {},
   "source": [
    "Now let's devise a way to get a song id, given a song and an artist:"
   ]
  },
  {
   "cell_type": "code",
   "execution_count": 131,
   "metadata": {},
   "outputs": [],
   "source": [
    "from unidecode import unidecode\n",
    "from fuzzywuzzy import fuzz\n",
    "\n",
    "TITLE_DIFF = 90\n",
    "ARTIST_DIFF = 70\n",
    "\n",
    "def contains_artist(goal, artists):\n",
    "    # Use unidecode to turn special characters to regular, i.e. ñ --> n\n",
    "    goal = unidecode(goal).lower()\n",
    "    \n",
    "    for artist in artists:\n",
    "        art = unidecode(artist['name']).lower()\n",
    "        if fuzz.partial_ratio(art, goal) >= ARTIST_DIFF:\n",
    "            return True\n",
    "\n",
    "    return False\n",
    "\n",
    "def sort_fn(elem):\n",
    "    return elem['popularity']\n",
    "\n",
    "# If the song is not in the top 20 results, ignore it.\n",
    "# TOOD: how frequently does this happen? If frequently, maybe follow the pages?\n",
    "def get_song(track, artist):\n",
    "    query_result = sp.search(q=track, type='track', limit=20)\n",
    "    query_result = query_result['tracks']['items']\n",
    "    \n",
    "    # Clean the query results\n",
    "    result = []\n",
    "    for elem in query_result:\n",
    "        if fuzz.partial_ratio(track, elem['name']) < TITLE_DIFF:\n",
    "            continue\n",
    "        if not contains_artist(artist, elem['artists']):\n",
    "            continue\n",
    "\n",
    "        new_song = dict()\n",
    "        new_song['name'] = unidecode(elem['name']).lower()\n",
    "        new_song['id'] = elem['id']\n",
    "        #new_song['artists'] = elem['artists']\n",
    "        new_song['artist'] = unidecode(artist).lower()\n",
    "        new_song['popularity'] = elem['popularity']\n",
    "        \n",
    "        result += [new_song]\n",
    "    \n",
    "    # Return the most popular song\n",
    "    result.sort(key=sort_fn)\n",
    "    \n",
    "    if len(result) == 0:\n",
    "        print(\"Could not find '%s' by '%s' in top 20 results\" % (track, artist))\n",
    "        return None\n",
    "    \n",
    "    return result[-1]"
   ]
  },
  {
   "cell_type": "markdown",
   "metadata": {},
   "source": [
    "Let's create a cache of song mappings so as to limit our API requests to spotify."
   ]
  },
  {
   "cell_type": "code",
   "execution_count": 132,
   "metadata": {},
   "outputs": [],
   "source": [
    "# Format is dict{artist : {song : data, song : data ...} ...}\n",
    "memo = dict()"
   ]
  },
  {
   "cell_type": "markdown",
   "metadata": {},
   "source": [
    "Create a wrapper to do it given a list of songs:"
   ]
  },
  {
   "cell_type": "code",
   "execution_count": 133,
   "metadata": {},
   "outputs": [],
   "source": [
    "import pandas as pd\n",
    "import copy\n",
    "\n",
    "#TODO: should integrate 'retry_after' when response 429, to deal with rate limiting\n",
    "# Expects song_list of type [dict{week, name, artist}....]\n",
    "def convert_all_songs(song_list):\n",
    "    result = []\n",
    "    for song in song_list:\n",
    "        artist = song['artist']\n",
    "        title = song['name']\n",
    "        if artist not in memo:\n",
    "            memo[artist] = dict()\n",
    "        \n",
    "        # Check if we've already hit spotify for this\n",
    "        if title in memo[artist]:\n",
    "            temp = copy.copy(memo[artist][title])\n",
    "            if temp is not None:\n",
    "                temp['date'] = song['date']\n",
    "                result += [temp]\n",
    "            continue\n",
    "\n",
    "        # Haven't hit spotify yet, so query and add to memo\n",
    "        temp = get_song(title, artist)\n",
    "        if temp is None:\n",
    "            memo[artist][title] = None\n",
    "            continue\n",
    "\n",
    "        temp['date'] = song['date']\n",
    "        \n",
    "        # Add the audio features, remove unneeded one\n",
    "        \"\"\"\n",
    "        Here are the features:\n",
    "        dict_keys(['danceability', 'energy', 'key', 'loudness', 'mode',\n",
    "                   'speechiness', 'acousticness', 'instrumentalness', 'liveness',\n",
    "                   'valence', 'tempo', 'type', 'id', 'uri', 'track_href',\n",
    "                   'analysis_url', 'duration_ms', 'time_signature'])\"\"\"\n",
    "        features = sp.audio_features(temp['id'])[0]\n",
    "        del features['type']\n",
    "        del features['id']\n",
    "        del features['uri']\n",
    "        del features['track_href']\n",
    "        del features['analysis_url']\n",
    "        #TODO: do we want time signature? Do we want to remove duration?\n",
    "        del features['time_signature']\n",
    "        temp.update(features)\n",
    "        \n",
    "        # Note: spotipy takes care of the 429 'retry-after' response from spotify\n",
    "        result += [temp]\n",
    "        memo[artist][title] = temp\n",
    "    \n",
    "    return pd.DataFrame(result).set_index('date')"
   ]
  },
  {
   "cell_type": "markdown",
   "metadata": {},
   "source": [
    "Here is an example of the functionality:"
   ]
  },
  {
   "cell_type": "code",
   "execution_count": 138,
   "metadata": {},
   "outputs": [
    {
     "name": "stdout",
     "output_type": "stream",
     "text": [
      "                                         name                      id  \\\n",
      "date                                                                    \n",
      "2000-12-23  case of the ex (whatcha gonna do)  1ak0S3NhwWrUgNlQhJ1412   \n",
      "2000-12-30                       it wasn't me  3WkibOpDF7cQ5xntM1epyf   \n",
      "2000-12-23                       it wasn't me  3WkibOpDF7cQ5xntM1epyf   \n",
      "2000-12-23  case of the ex (whatcha gonna do)  1ak0S3NhwWrUgNlQhJ1412   \n",
      "\n",
      "                                              artist  popularity  \\\n",
      "date                                                               \n",
      "2000-12-23                                       mya          53   \n",
      "2000-12-30  shaggy featuring ricardo \"rikrok\" ducent          77   \n",
      "2000-12-23  shaggy featuring ricardo \"rikrok\" ducent          77   \n",
      "2000-12-23                                       mya          53   \n",
      "\n",
      "            danceability  energy  key  loudness  mode  speechiness  \\\n",
      "date                                                                 \n",
      "2000-12-23         0.774   0.684    1    -4.721     0       0.0408   \n",
      "2000-12-30         0.853   0.606    0    -4.596     1       0.0713   \n",
      "2000-12-23         0.853   0.606    0    -4.596     1       0.0713   \n",
      "2000-12-23         0.774   0.684    1    -4.721     0       0.0408   \n",
      "\n",
      "            acousticness  instrumentalness  liveness  valence   tempo  \\\n",
      "date                                                                    \n",
      "2000-12-23        0.0687          0.000093    0.0765    0.354  98.001   \n",
      "2000-12-30        0.0561          0.000000    0.3130    0.654  94.759   \n",
      "2000-12-23        0.0561          0.000000    0.3130    0.654  94.759   \n",
      "2000-12-23        0.0687          0.000093    0.0765    0.354  98.001   \n",
      "\n",
      "            duration_ms  \n",
      "date                     \n",
      "2000-12-23       236827  \n",
      "2000-12-30       227600  \n",
      "2000-12-23       227600  \n",
      "2000-12-23       236827  \n"
     ]
    }
   ],
   "source": [
    "songs = [\n",
    "    {'name': 'Case Of The Ex (Whatcha Gonna Do)', 'artist': 'Mya', 'date': '2000-12-23'},\n",
    "    {'name': \"It Wasn't Me\", 'artist': 'Shaggy Featuring Ricardo \"RikRok\" Ducent', 'date': '2000-12-30'},\n",
    "    {'name': \"It Wasn't Me\", 'artist': 'Shaggy Featuring Ricardo \"RikRok\" Ducent', 'date': '2000-12-23'},\n",
    "    {'name': 'Case Of The Ex (Whatcha Gonna Do)', 'artist': 'Mya', 'date': '2000-12-23'}\n",
    "]\n",
    "\"\"\"\n",
    "    {'name': 'Independent Women Part I', 'artist': \"Destiny's Child\", 'date': '2000-12-30'},\n",
    "    {'name': 'Independent Women Part I', 'artist': \"Destiny's Child\", 'date': '2000-12-23'},\n",
    "    {'name': 'He Loves U Not', 'artist': 'Dream', 'date': '2000-12-30'},\n",
    "\"\"\"\n",
    "x = convert_all_songs(songs)\n",
    "print(x)"
   ]
  },
  {
   "cell_type": "markdown",
   "metadata": {},
   "source": [
    "Cool! Now that we have this functionality, lets run it on our data of top songs to create the end dataframe."
   ]
  },
  {
   "cell_type": "code",
   "execution_count": 137,
   "metadata": {},
   "outputs": [
    {
     "name": "stdout",
     "output_type": "stream",
     "text": [
      "104200\n"
     ]
    }
   ],
   "source": [
    "import pickle\n",
    "\n",
    "with open('hot100Results', 'rb') as f:\n",
    "    top_songs = pickle.load(f)\n",
    "\n",
    "top_songs = [song for year in top_songs for song in year] \n",
    "\n",
    "print(len(top_songs))"
   ]
  },
  {
   "cell_type": "code",
   "execution_count": null,
   "metadata": {},
   "outputs": [],
   "source": []
  }
 ],
 "metadata": {
  "kernelspec": {
   "display_name": "Python 3",
   "language": "python",
   "name": "python3"
  },
  "language_info": {
   "codemirror_mode": {
    "name": "ipython",
    "version": 3
   },
   "file_extension": ".py",
   "mimetype": "text/x-python",
   "name": "python",
   "nbconvert_exporter": "python",
   "pygments_lexer": "ipython3",
   "version": "3.7.0"
  }
 },
 "nbformat": 4,
 "nbformat_minor": 2
}
