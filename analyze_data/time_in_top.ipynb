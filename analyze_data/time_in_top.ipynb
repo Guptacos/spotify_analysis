{
 "cells": [
  {
   "cell_type": "markdown",
   "metadata": {},
   "source": [
    "# Average Time in Hot 100\n",
    "In this file, we are going to analyze how long (on average) popular songs remain popular. First we are going to consider songs that hit the top 10. For each of those songs, we will see how many weeks it was in the top 10, and average that across years to see if there are any interesting trends.\n",
    "\n",
    "We will then repeat this process, but see how many weeks those songs remained in the top 100. Finally, we try to plot a song's position within the top charts over time, and see how this changes for songs over the years."
   ]
  },
  {
   "cell_type": "code",
   "execution_count": 98,
   "metadata": {},
   "outputs": [],
   "source": [
    "import pandas as pd\n",
    "import pickle"
   ]
  },
  {
   "cell_type": "markdown",
   "metadata": {},
   "source": [
    "First let's get a set of unique songs that were at some point in the top n"
   ]
  },
  {
   "cell_type": "code",
   "execution_count": 99,
   "metadata": {},
   "outputs": [],
   "source": [
    "# Want the songs above top_cuttoff, and want to see how long they were in the top length_in\n",
    "TOP_CUTTOFF = 10\n",
    "LENGTH_IN = 100"
   ]
  },
  {
   "cell_type": "code",
   "execution_count": 100,
   "metadata": {},
   "outputs": [],
   "source": [
    "# returns a dict mapping a year to a set of songs that were in the top n at some point that year\n",
    "def get_uniques(top_df):\n",
    "    topN = top_df[top_df['position'] <= TOP_CUTTOFF]\n",
    "    uniques = topN.groupby(topN.date.dt.year)['name'].apply(set)\n",
    "\n",
    "    return dict(uniques)"
   ]
  },
  {
   "cell_type": "markdown",
   "metadata": {},
   "source": [
    "Now for each of these sets, let's get the number of times that song was in the top n"
   ]
  },
  {
   "cell_type": "code",
   "execution_count": 101,
   "metadata": {},
   "outputs": [],
   "source": [
    "def song_count_top(top_df, song, year):\n",
    "    result = top_df[top_df['date'].dt.year == year]\n",
    "    result = result[result['name'] == song]\n",
    "    result = result[result['position'] <= LENGTH_IN]\n",
    "    return len(result)\n",
    "\n",
    "def song_average_top(top_df, songs, year):\n",
    "    total = 0\n",
    "    for song in songs:\n",
    "        total += song_count_top(top_df, song, year)\n",
    "    \n",
    "    return total / len(songs)\n",
    "\n",
    "def yearly_average(top_df):    \n",
    "    result = []\n",
    "    uniques = get_uniques(top_df)\n",
    "    \n",
    "    for year, songs in uniques.items():\n",
    "        avg = song_average_top(top_df, songs, year)\n",
    "        result += [(year, avg)]\n",
    "\n",
    "    return result"
   ]
  },
  {
   "cell_type": "code",
   "execution_count": 102,
   "metadata": {},
   "outputs": [],
   "source": [
    "with open('../data/results/hot100.df', 'rb') as f:\n",
    "    df = pickle.load(f)\n",
    "\n",
    "df['date'] = pd.to_datetime(df['date'])\n",
    "avg = yearly_average(df)"
   ]
  },
  {
   "cell_type": "code",
   "execution_count": 130,
   "metadata": {},
   "outputs": [],
   "source": [
    "import matplotlib.pyplot as plt\n",
    "from statistics import mean\n",
    "\n",
    "def divide_chunks(l, n):\n",
    "    result = []\n",
    "    for i in range(0, len(l), n):  \n",
    "        if i >= len(l):\n",
    "            result += [l[i:]]\n",
    "        else:\n",
    "            result += [l[i:i + n]]\n",
    "    return result\n",
    "\n",
    "def plot_avg(smoothing=1):\n",
    "    years    = [elem[0] for elem in avg[::smoothing]]\n",
    "    averages = [elem[1] for elem in avg]\n",
    "    \n",
    "    data = divide_chunks(averages, smoothing)\n",
    "    data = list(map(mean, data))\n",
    "    \n",
    "    plt.plot(years, data)\n",
    "    plt.xlabel('Year')\n",
    "    plt.ylabel('Weeks')\n",
    "    plt.title('Average Number of Weeks in Top %s' % LENGTH_IN)\n",
    "    \n",
    "    plt.show()"
   ]
  },
  {
   "cell_type": "code",
   "execution_count": 136,
   "metadata": {},
   "outputs": [
    {
     "data": {
      "image/png": "[encoded data removed]",
      "text/plain": [
       "<Figure size 432x288 with 1 Axes>"
      ]
     },
     "metadata": {
      "needs_background": "light"
     },
     "output_type": "display_data"
    }
   ],
   "source": [
    "plot_avg(1)"
   ]
  }
 ],
 "metadata": {
  "kernelspec": {
   "display_name": "Python 3",
   "language": "python",
   "name": "python3"
  },
  "language_info": {
   "codemirror_mode": {
    "name": "ipython",
    "version": 3
   },
   "file_extension": ".py",
   "mimetype": "text/x-python",
   "name": "python",
   "nbconvert_exporter": "python",
   "pygments_lexer": "ipython3",
   "version": "3.7.0"
  }
 },
 "nbformat": 4,
 "nbformat_minor": 2
}
