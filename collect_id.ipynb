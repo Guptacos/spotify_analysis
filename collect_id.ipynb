{
 "cells": [
  {
   "cell_type": "markdown",
   "metadata": {},
   "source": [
    "# Intro\n",
    "\n",
    "In this file, we will be reading from a pickle file, which will contain a list of songs through the years. Each element of this list should be a dict containing week, name, and artist. This list should contain the Billboard 100 songs for every week for the last 10 years, and week should be the number of weeks after January 1st, 2009 that the song is for.\n",
    "\n",
    "Given this list, we will query the spotify API to generate a dataframe that contains the same information, augmented with song ID, song features, and artist genre. This dataframe will be saved as a pickle file at the end."
   ]
  },
  {
   "cell_type": "code",
   "execution_count": 180,
   "metadata": {},
   "outputs": [],
   "source": [
    "import spotipy\n",
    "import spotipy.util as util\n",
    "\n",
    "scope = ''\n",
    "username = 'testname777123'\n",
    "# Note: This should be filled in with an authentication token. Make sure to delete it before committing.\n",
    "token = 'BQAfEUTMzSwkgcMwyiEtBT0rX7hVvoGV2ZN5RJCnrt4wSie7NOAoQEegjINYuOGtl6CZekP-txvcm0XxpMMNH2wJNqZmJOhLagoCxHCUtDzAT0gPqolgVsDZPfwxn7jl78mwpMD48490Y7hv2mwgRfzS'\n",
    "\n",
    "sp = spotipy.Spotify(auth=token)"
   ]
  },
  {
   "cell_type": "markdown",
   "metadata": {},
   "source": [
    "Now let's devise a way to get a song id, given a song and an artist:"
   ]
  },
  {
   "cell_type": "code",
   "execution_count": 181,
   "metadata": {},
   "outputs": [],
   "source": [
    "def contains_artist(goal, artists):\n",
    "    for artist in artists:\n",
    "        if artist['name'].lower() == goal.lower():\n",
    "            return True\n",
    "    \n",
    "    return False\n",
    "\n",
    "def sort_fn(elem):\n",
    "    return elem['popularity']\n",
    "\n",
    "# If the song is not in the top 20 results, ignore it.\n",
    "# TOOD: how frequently does this happen? If frequently, maybe follow the pages?\n",
    "def get_song(track, artist):\n",
    "    query_result = sp.search(q=track, type='track', limit=20)\n",
    "    query_result = query_result['tracks']['items']\n",
    "    \n",
    "    # Clean the query results\n",
    "    result = []\n",
    "    for elem in query_result:\n",
    "        if not contains_artist(artist, elem['artists']):\n",
    "            continue\n",
    "\n",
    "        new_song = dict()\n",
    "        new_song['name'] = elem['name'].lower()\n",
    "        new_song['id'] = elem['id']\n",
    "        #new_song['artists'] = elem['artists']\n",
    "        new_song['artist'] = artist.lower()\n",
    "        new_song['popularity'] = elem['popularity']\n",
    "        \n",
    "        result += [new_song]\n",
    "    \n",
    "    # Return the most popular song\n",
    "    result.sort(key=sort_fn)\n",
    "    \n",
    "    if len(result) == 0:\n",
    "        return None\n",
    "    \n",
    "    return result[-1]"
   ]
  },
  {
   "cell_type": "markdown",
   "metadata": {},
   "source": [
    "Create a wrapper to do it given a list of songs:"
   ]
  },
  {
   "cell_type": "code",
   "execution_count": 189,
   "metadata": {},
   "outputs": [],
   "source": [
    "import pandas as pd\n",
    "\n",
    "#TODO: should integrate 'retry_after' when response 429, to deal with rate limiting\n",
    "# Expects song_list of type [dict{week, name, artist}....]\n",
    "def convert_all_songs(song_list):\n",
    "    result = []\n",
    "    for song in song_list:\n",
    "        temp = get_song(song['name'], song['artist'])\n",
    "        if temp is None:\n",
    "            print('Could not find \\'%s\\' by \\'%s\\'.' % (song['name'], song['artist']))\n",
    "            continue\n",
    "        temp['week'] = song['week']\n",
    "        \n",
    "        # Add the audio features, remove unneeded one\n",
    "          \"\"\"\n",
    "          Here are the features:\n",
    "          dict_keys(['danceability', 'energy', 'key', 'loudness', 'mode',\n",
    "                     'speechiness', 'acousticness', 'instrumentalness', 'liveness',\n",
    "                     'valence', 'tempo', 'type', 'id', 'uri', 'track_href',\n",
    "                     'analysis_url', 'duration_ms', 'time_signature'])\"\"\"\n",
    "        features = sp.audio_features(temp['id'])[0]\n",
    "        del features['type']\n",
    "        del features['id']\n",
    "        del features['uri']\n",
    "        del features['track_href']\n",
    "        del features['analysis_url']\n",
    "        #TODO: do we want time signature? Do we want to remove duration?\n",
    "        del features['time_signature']\n",
    "        temp.update(features)\n",
    "        \n",
    "        # Note: spotipy takes care of the 429 'retry-after' response from spotify\n",
    "        result += [temp]\n",
    "    \n",
    "    return pd.DataFrame(result).set_index('week')"
   ]
  },
  {
   "cell_type": "markdown",
   "metadata": {},
   "source": [
    "Here is an example of the functionality:"
   ]
  },
  {
   "cell_type": "code",
   "execution_count": 190,
   "metadata": {},
   "outputs": [
    {
     "name": "stdout",
     "output_type": "stream",
     "text": [
      "Could not find 'shouldn't exist' by 'not a real artist pls 42'.\n",
      "                    name                      id           artist  popularity  \\\n",
      "week                                                                            \n",
      "0            gravy train  3qOkkP9JLltoUvaLjEXTmW       yung gravy          68   \n",
      "1           shape of you  7qiZfU4dY1lWllzX7mPBI3       ed sheeran          87   \n",
      "1     another day of sun  5kRBzRZmZTXVg8okC7SJFZ  la la land cast          68   \n",
      "\n",
      "      danceability  energy  key  loudness  mode  speechiness  acousticness  \\\n",
      "week                                                                         \n",
      "0            0.733   0.622    6    -7.689     0       0.1400        0.3240   \n",
      "1            0.825   0.652    1    -3.183     0       0.0802        0.5810   \n",
      "1            0.588   0.742    8    -6.757     1       0.0528        0.0162   \n",
      "\n",
      "      instrumentalness  liveness  valence    tempo  duration_ms  \n",
      "week                                                             \n",
      "0             0.000000    0.1650    0.729  143.934       169600  \n",
      "1             0.000000    0.0931    0.931   95.977       233713  \n",
      "1             0.000004    0.6530    0.824  125.819       228173  \n"
     ]
    }
   ],
   "source": [
    "songs = [\n",
    "    {'week':0, 'name':'gravy train', 'artist':'yung gravy'},\n",
    "    {'week':1, 'name':'shape of you', 'artist':'ed sheeran'},\n",
    "    {'week':0, 'name':'shouldn\\'t exist', 'artist':'not a real artist pls 42'},\n",
    "    {'week':1, 'name':'another day of sun', 'artist':'la la land cast'}\n",
    "]\n",
    "x = convert_all_songs(songs)\n",
    "print(x)"
   ]
  },
  {
   "cell_type": "markdown",
   "metadata": {},
   "source": [
    "Cool! Now that we have this functionality, lets run it on our data of top songs to create the end dataframe."
   ]
  },
  {
   "cell_type": "code",
   "execution_count": null,
   "metadata": {},
   "outputs": [],
   "source": [
    "import pickle\n",
    "top_songs = pickle.load('top_songs.pickle')\n",
    "print(top_songs[:10])"
   ]
  }
 ],
 "metadata": {
  "kernelspec": {
   "display_name": "Python 3",
   "language": "python",
   "name": "python3"
  },
  "language_info": {
   "codemirror_mode": {
    "name": "ipython",
    "version": 3
   },
   "file_extension": ".py",
   "mimetype": "text/x-python",
   "name": "python",
   "nbconvert_exporter": "python",
   "pygments_lexer": "ipython3",
   "version": "3.7.0"
  }
 },
 "nbformat": 4,
 "nbformat_minor": 2
}
